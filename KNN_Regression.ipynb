{
  "nbformat": 4,
  "nbformat_minor": 0,
  "metadata": {
    "colab": {
      "provenance": [],
      "authorship_tag": "ABX9TyMZ8iBnJL8k4VYtyP7Ylcdc",
      "include_colab_link": true
    },
    "kernelspec": {
      "name": "python3",
      "display_name": "Python 3"
    },
    "language_info": {
      "name": "python"
    }
  },
  "cells": [
    {
      "cell_type": "markdown",
      "metadata": {
        "id": "view-in-github",
        "colab_type": "text"
      },
      "source": [
        "<a href=\"https://colab.research.google.com/github/Mirza-Abbas-Uddin/Artificial-Intelligence-Laboratory/blob/main/KNN_Regression.ipynb\" target=\"_parent\"><img src=\"https://colab.research.google.com/assets/colab-badge.svg\" alt=\"Open In Colab\"/></a>"
      ]
    },
    {
      "cell_type": "code",
      "execution_count": 28,
      "metadata": {
        "colab": {
          "base_uri": "https://localhost:8080/"
        },
        "id": "FGTBrukHGSzm",
        "outputId": "36820ca8-6b1f-4ae7-9200-96427da6f9b3"
      },
      "outputs": [
        {
          "output_type": "stream",
          "name": "stdout",
          "text": [
            "Drive already mounted at /content/gdrive; to attempt to forcibly remount, call drive.mount(\"/content/gdrive\", force_remount=True).\n"
          ]
        }
      ],
      "source": [
        "# connecting google colab with the google drive\n",
        "from google.colab import drive\n",
        "drive.mount('/content/gdrive')"
      ]
    },
    {
      "cell_type": "code",
      "metadata": {
        "id": "oD5QWJj0OqGO"
      },
      "source": [
        "# importing data from the google drive\n",
        "from numpy import genfromtxt\n",
        "data_path = '/content/gdrive/MyDrive/Trimester-09/AI Lab/Assignments/KNN/Dataset/diabetes.csv'\n",
        "my_data = genfromtxt(data_path, delimiter=',')"
      ],
      "execution_count": 29,
      "outputs": []
    },
    {
      "cell_type": "code",
      "source": [
        "import numpy as np\n",
        "# randomly shuffle the dataset\n",
        "np.random.shuffle(my_data)\n",
        "data = my_data.tolist()\n",
        "\n",
        "# calculating the size of split of each data set\n",
        "train_size = int(0.7*len(data))\n",
        "val_size = int(0.15*len(data))\n",
        "test_size = len(data) - (train_size + val_size)\n",
        "print(f\"Size of Train_data,Val_data,Test_data:{train_size,val_size,test_size}\")\n",
        "\n",
        "# split the data into train_data,val_data,test_data\n",
        "train_data = data[:train_size]\n",
        "val_data = data[train_size:train_size+val_size]\n",
        "test_data = data[train_size+val_size:]"
      ],
      "metadata": {
        "colab": {
          "base_uri": "https://localhost:8080/"
        },
        "id": "KV4deA9uSljn",
        "outputId": "c592437f-5513-4d86-ee0e-91c9b4874c68"
      },
      "execution_count": 30,
      "outputs": [
        {
          "output_type": "stream",
          "name": "stdout",
          "text": [
            "Size of Train_data,Val_data,Test_data:(309, 66, 67)\n"
          ]
        }
      ]
    },
    {
      "cell_type": "code",
      "source": [
        "import numpy as np\n",
        "# function to calculate Euclidean distance\n",
        "def calc_euclidean_distance(lst1,lst2):\n",
        "  # Convert the lists to NumPy arrays\n",
        "  arr1 = np.array(lst1)\n",
        "  arr2 = np.array(lst2)\n",
        "\n",
        "  squared_distance = np.square(arr1-arr2)  # Calculate the squared distance between each corresponding coordinate\n",
        "  distance = np.sqrt(np.sum(squared_distance)) # Sum the squared differences and take the square root\n",
        "  return distance"
      ],
      "metadata": {
        "id": "8pnEu0jHX4Dl"
      },
      "execution_count": 31,
      "outputs": []
    },
    {
      "cell_type": "code",
      "source": [
        "# validation\n",
        "import math\n",
        "\n",
        "Error = 0\n",
        "train_data_copy = []\n",
        "\n",
        "for V in val_data:\n",
        "    for T in train_data:\n",
        "        Vx = V.copy() # making copy of val_set with N-1 elements\n",
        "        Tx = T.copy() # making copy of test_set with N-1 elements\n",
        "        D = calc_euclidean_distance(Vx, Tx) # passing value of Vx, Tx with N-1 elements to calculate Euclidean distance\n",
        "        T_new = T.copy() # copy T list into another new list\n",
        "        T_new.append(D) # making new list with the distance value\n",
        "        train_data_copy.append(T_new) # making new train data set with distance value\n",
        "\n",
        "    T_sorted = sorted(train_data_copy, key=lambda x: x[-1])  # sorting the list based on the distance\n",
        "    k = 5 # set the value of k\n",
        "    T_KNN = T_sorted[:k] # taking first k neighbours\n",
        "    determined_output = sum(x[10] for x in T_KNN)/k  # Take the average output of the K samples\n",
        "    error = (V[10] - determined_output)**2  # Calculate the squared difference between true output and determined output\n",
        "    Error += error  # Add error to the running total\n",
        "\n",
        "mean_squared_error = Error/len(val_data)  # Divide the total error by the number of validation samples\n",
        "validation_accuracy = math.sqrt(mean_squared_error)\n",
        "print(f\"Validation Accuracy: {validation_accuracy}\")\n"
      ],
      "metadata": {
        "colab": {
          "base_uri": "https://localhost:8080/"
        },
        "id": "MYU9LBNRMTIy",
        "outputId": "58f40375-48a5-484f-f122-402163277821"
      },
      "execution_count": 40,
      "outputs": [
        {
          "output_type": "stream",
          "name": "stdout",
          "text": [
            "Validation Accuracy: 93.0924304444814\n"
          ]
        }
      ]
    },
    {
      "cell_type": "code",
      "source": [
        "# Test\n",
        "import math\n",
        "\n",
        "Error= 0\n",
        "train_data_copy = []\n",
        "for V in test_data:\n",
        "  for T in train_data:\n",
        "    Vx = V.copy() # making copy of val_set with N-1 elements\n",
        "    Tx = T.copy() # making copy of test_set with N-1 elements\n",
        "    D = calc_euclidean_distance(Vx,Tx) # passing value of Vx,Tx with N-1 elements to calculate Euclidean distance\n",
        "    T_new = T.copy() # copy T list into another new list\n",
        "    T_new.append(D) # making new list with the distance value\n",
        "    train_data_copy.append(T_new) # making new train data set with distance value\n",
        "\n",
        "  T_sorted = sorted(train_data_copy, key=lambda x: x[-1])  # sorting the list based on the distance\n",
        "  k = 5 # set the value of k\n",
        "  T_KNN = T_sorted[:k] # taking first k neighbours\n",
        "  determined_output = sum(x[10] for x in T_KNN)/k  # Take the average output of the K samples\n",
        "  error = (V[10] - determined_output)**2  # Calculate the squared difference between true output and determined output\n",
        "  Error += error  # Add error to the running total\n",
        "\n",
        "mean_squared_error = Error/len(test_data)  # Divide the total error by the number of validation samples\n",
        "print(f\"Validatio Accuracy = {math.sqrt(mean_squared_error)}\")"
      ],
      "metadata": {
        "colab": {
          "base_uri": "https://localhost:8080/"
        },
        "outputId": "636f5d87-2ade-4a53-a755-76afb883fc3a",
        "id": "eWF-zYEyK6Cl"
      },
      "execution_count": 41,
      "outputs": [
        {
          "output_type": "stream",
          "name": "stdout",
          "text": [
            "Validatio Accuracy = 84.25745194910195\n"
          ]
        }
      ]
    }
  ]
}