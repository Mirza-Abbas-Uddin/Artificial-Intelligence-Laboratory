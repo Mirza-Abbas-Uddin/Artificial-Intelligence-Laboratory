{
  "nbformat": 4,
  "nbformat_minor": 0,
  "metadata": {
    "colab": {
      "provenance": [],
      "authorship_tag": "ABX9TyNDvPMnCFMAPnMGwdQ34zQA",
      "include_colab_link": true
    },
    "kernelspec": {
      "name": "python3",
      "display_name": "Python 3"
    },
    "language_info": {
      "name": "python"
    }
  },
  "cells": [
    {
      "cell_type": "markdown",
      "metadata": {
        "id": "view-in-github",
        "colab_type": "text"
      },
      "source": [
        "<a href=\"https://colab.research.google.com/github/Mirza-Abbas-Uddin/Artificial-Intelligence-Laboratory/blob/main/KNN__Classification.ipynb\" target=\"_parent\"><img src=\"https://colab.research.google.com/assets/colab-badge.svg\" alt=\"Open In Colab\"/></a>"
      ]
    },
    {
      "cell_type": "code",
      "execution_count": null,
      "metadata": {
        "colab": {
          "base_uri": "https://localhost:8080/"
        },
        "id": "FGTBrukHGSzm",
        "outputId": "b130291d-8412-490a-ae6c-abc874ba5bdc"
      },
      "outputs": [
        {
          "output_type": "stream",
          "name": "stdout",
          "text": [
            "Mounted at /content/gdrive\n"
          ]
        }
      ],
      "source": [
        "# connecting google colab with the google drive\n",
        "from google.colab import drive\n",
        "drive.mount('/content/gdrive')"
      ]
    },
    {
      "cell_type": "code",
      "metadata": {
        "id": "oD5QWJj0OqGO"
      },
      "source": [
        "# importing data from the google drive\n",
        "from numpy import genfromtxt\n",
        "data_path = '/content/gdrive/MyDrive/Trimester-09/AI Lab/Assignments/KNN/Dataset/iris.csv'\n",
        "my_data = genfromtxt(data_path, delimiter=',')"
      ],
      "execution_count": null,
      "outputs": []
    },
    {
      "cell_type": "code",
      "source": [
        "import numpy as np\n",
        "# randomly shuffle the dataset\n",
        "np.random.shuffle(my_data)\n",
        "data = my_data.tolist()\n",
        "\n",
        "# calculating the size of split of each data set\n",
        "train_size = int(0.7*len(data))\n",
        "val_size = int(0.15*len(data))\n",
        "test_size = len(data) - (train_size + val_size)\n",
        "print(f\"Size of Train_data,Val_data,Test_data:{train_size,val_size,test_size}\")\n",
        "\n",
        "# split the data into train_data,val_data,test_data\n",
        "train_data = data[:train_size]\n",
        "val_data = data[train_size:train_size+val_size]\n",
        "test_data = data[train_size+val_size:]"
      ],
      "metadata": {
        "colab": {
          "base_uri": "https://localhost:8080/"
        },
        "id": "KV4deA9uSljn",
        "outputId": "6a410b1d-f99e-4059-d013-bd1e5224b976"
      },
      "execution_count": null,
      "outputs": [
        {
          "output_type": "stream",
          "name": "stdout",
          "text": [
            "Size of Train_data,Val_data,Test_data:(105, 22, 23)\n"
          ]
        }
      ]
    },
    {
      "cell_type": "code",
      "source": [
        "import numpy as np\n",
        "# function to calculate Euclidean distance\n",
        "def calc_euclidean_distance(lst1,lst2):\n",
        "  # Convert the lists to NumPy arrays\n",
        "  arr1 = np.array(lst1)\n",
        "  arr2 = np.array(lst2)\n",
        "\n",
        "  squared_distance = np.square(arr1-arr2)  # Calculate the squared distance between each corresponding coordinate\n",
        "  distance = np.sqrt(np.sum(squared_distance)) # Sum the squared differences and take the square root\n",
        "  return distance"
      ],
      "metadata": {
        "id": "8pnEu0jHX4Dl"
      },
      "execution_count": null,
      "outputs": []
    },
    {
      "cell_type": "code",
      "source": [
        "def find_majority_class(lst):\n",
        "    # variable to count max class\n",
        "    class0_count = 0\n",
        "    class1_count = 0\n",
        "    class2_count = 0\n",
        "    \n",
        "    for sublist in lst:\n",
        "        if sublist[4] == 0:\n",
        "            class0_count += 1\n",
        "        elif sublist[4] == 1:\n",
        "            class1_count += 1\n",
        "        else:\n",
        "            class2_count += 1\n",
        "\n",
        "    # Check which class has the maximum count\n",
        "    if class0_count >= class1_count and class0_count >= class2_count:\n",
        "        return 0.0\n",
        "    elif class1_count >= class0_count and class1_count >= class2_count:\n",
        "        return 1.0\n",
        "    else:\n",
        "        return 2.0"
      ],
      "metadata": {
        "id": "z3_O0gu6vyKZ"
      },
      "execution_count": null,
      "outputs": []
    },
    {
      "cell_type": "code",
      "source": [
        "# validation\n",
        "correct_result = 0\n",
        "train_data_copy = []\n",
        "for V in val_data:\n",
        "  for T in train_data:\n",
        "    Vx = V[:len(V)-1] # making copy of val_set with N-1 elements\n",
        "    Tx = T[:len(T)-1] # making copy of test_set with N-1 elements\n",
        "    D = calc_euclidean_distance(Vx,Tx) # passing value of Vx,Tx with N-1 elements to calculate Euclidean distance\n",
        "    T_new = T.copy() # copy T list into another new list\n",
        "    T_new.append(D) # making new list with the distance value\n",
        "    train_data_copy.append(T_new) # making new train data set with distance value\n",
        "    # print(train_data_copy)\n",
        "\n",
        "  T_sorted = sorted(train_data_copy, key=lambda x: x[-1])  # sorting the list based on the distance\n",
        "  k = 15 # set the value of k\n",
        "  T_KNN = T_sorted[:k] # taking first k neighbours\n",
        "  result = find_majority_class(T_KNN)  # finding which class gets more count\n",
        "  # counting correct answer\n",
        "  if T[4] == result:\n",
        "      correct_result += 1\n",
        "\n",
        "validation_accuracy = (correct_result/len(val_data))*100\n",
        "print(f\"Validatio Accuracy = {validation_accuracy}%\")"
      ],
      "metadata": {
        "colab": {
          "base_uri": "https://localhost:8080/"
        },
        "id": "uezoDOFpajzQ",
        "outputId": "6ff4bc4a-2ea7-4f3e-8b9a-c3f4c7750825"
      },
      "execution_count": null,
      "outputs": [
        {
          "output_type": "stream",
          "name": "stdout",
          "text": [
            "Validatio Accuracy = 95.45454545454545%\n"
          ]
        }
      ]
    },
    {
      "cell_type": "code",
      "source": [
        "# Test\n",
        "correct_result = 0\n",
        "train_data_copy = []\n",
        "for V in test_data:\n",
        "  for T in train_data:\n",
        "    Vx = V[:len(V)-1] # making copy of val_set with N-1 elements\n",
        "    Tx = T[:len(T)-1] # making copy of test_set with N-1 elements\n",
        "    D = calc_euclidean_distance(Vx,Tx) # passing value of Vx,Tx with N-1 elements to calculate Euclidean distance\n",
        "    T_new = T.copy() # copy T list into another new list\n",
        "    T_new.append(D) # making new list with the distance value\n",
        "    train_data_copy.append(T_new) # making new train data set with distance value\n",
        "    # print(train_data_copy)\n",
        "\n",
        "  T_sorted = sorted(train_data_copy, key=lambda x: x[-1])  # sorting the list based on the distance\n",
        "  k = 15 # set the value of k\n",
        "  T_KNN = T_sorted[:k] # taking first k neighbours\n",
        "  result = find_majority_class(T_KNN)  # finding which class gets more count\n",
        "  # counting correct answer\n",
        "  if T[4] == result:\n",
        "      correct_result += 1\n",
        "\n",
        "validation_accuracy = (correct_result/len(test_data))*100\n",
        "print(f\"Test Accuracy = {validation_accuracy}%\")"
      ],
      "metadata": {
        "colab": {
          "base_uri": "https://localhost:8080/"
        },
        "outputId": "79cd0674-4b03-4b17-e835-68b259dde4dd",
        "id": "0es2ie6IBlWv"
      },
      "execution_count": null,
      "outputs": [
        {
          "output_type": "stream",
          "name": "stdout",
          "text": [
            "Test Accuracy = 82.6086956521739%\n"
          ]
        }
      ]
    }
  ]
}